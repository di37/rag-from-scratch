{
 "cells": [
  {
   "cell_type": "markdown",
   "metadata": {},
   "source": [
    "### Import Necessary Libraries"
   ]
  },
  {
   "cell_type": "code",
   "execution_count": 26,
   "metadata": {},
   "outputs": [],
   "source": [
    "# Text Embedding Model\n",
    "from sentence_transformers import SentenceTransformer\n",
    "\n",
    "# Wikipedia API to fetch text\n",
    "from wikipediaapi import Wikipedia\n",
    "\n",
    "## To display text in nicer format in console or cell\n",
    "import textwrap\n",
    "\n",
    "# For vector operations\n",
    "import numpy as np\n",
    "\n",
    "# LLM\n",
    "import openai\n",
    "from openai import OpenAI\n",
    "\n",
    "from dotenv import load_dotenv"
   ]
  },
  {
   "cell_type": "markdown",
   "metadata": {},
   "source": [
    "### Load the Embedding Model"
   ]
  },
  {
   "cell_type": "code",
   "execution_count": 2,
   "metadata": {},
   "outputs": [
    {
     "data": {
      "application/vnd.jupyter.widget-view+json": {
       "model_id": "5fdece4728d1419194eae8a86a31e2f9",
       "version_major": 2,
       "version_minor": 0
      },
      "text/plain": [
       "modules.json:   0%|          | 0.00/229 [00:00<?, ?B/s]"
      ]
     },
     "metadata": {},
     "output_type": "display_data"
    },
    {
     "data": {
      "application/vnd.jupyter.widget-view+json": {
       "model_id": "d09622096cf54241b53e462ee506dc4f",
       "version_major": 2,
       "version_minor": 0
      },
      "text/plain": [
       "README.md:   0%|          | 0.00/71.8k [00:00<?, ?B/s]"
      ]
     },
     "metadata": {},
     "output_type": "display_data"
    },
    {
     "data": {
      "application/vnd.jupyter.widget-view+json": {
       "model_id": "f6efc671b6fa46bfbd546944281d1726",
       "version_major": 2,
       "version_minor": 0
      },
      "text/plain": [
       "sentence_bert_config.json:   0%|          | 0.00/54.0 [00:00<?, ?B/s]"
      ]
     },
     "metadata": {},
     "output_type": "display_data"
    },
    {
     "data": {
      "application/vnd.jupyter.widget-view+json": {
       "model_id": "6fd6acf3ae9849e8ac36dcb9379aa27b",
       "version_major": 2,
       "version_minor": 0
      },
      "text/plain": [
       "config.json:   0%|          | 0.00/1.35k [00:00<?, ?B/s]"
      ]
     },
     "metadata": {},
     "output_type": "display_data"
    },
    {
     "data": {
      "application/vnd.jupyter.widget-view+json": {
       "model_id": "64b2a77387a24b7ab0d743448f03e06a",
       "version_major": 2,
       "version_minor": 0
      },
      "text/plain": [
       "configuration.py:   0%|          | 0.00/7.13k [00:00<?, ?B/s]"
      ]
     },
     "metadata": {},
     "output_type": "display_data"
    },
    {
     "name": "stderr",
     "output_type": "stream",
     "text": [
      "A new version of the following files was downloaded from https://huggingface.co/Alibaba-NLP/new-impl:\n",
      "- configuration.py\n",
      ". Make sure to double-check they do not contain any added malicious code. To avoid downloading new versions of the code file, you can pin a revision.\n"
     ]
    },
    {
     "data": {
      "application/vnd.jupyter.widget-view+json": {
       "model_id": "2a7242c6324947a9a5fd7520ddeffee7",
       "version_major": 2,
       "version_minor": 0
      },
      "text/plain": [
       "modeling.py:   0%|          | 0.00/59.0k [00:00<?, ?B/s]"
      ]
     },
     "metadata": {},
     "output_type": "display_data"
    },
    {
     "name": "stderr",
     "output_type": "stream",
     "text": [
      "A new version of the following files was downloaded from https://huggingface.co/Alibaba-NLP/new-impl:\n",
      "- modeling.py\n",
      ". Make sure to double-check they do not contain any added malicious code. To avoid downloading new versions of the code file, you can pin a revision.\n"
     ]
    },
    {
     "data": {
      "application/vnd.jupyter.widget-view+json": {
       "model_id": "09869e8b40294907a5d0f3fd807ad173",
       "version_major": 2,
       "version_minor": 0
      },
      "text/plain": [
       "model.safetensors:   0%|          | 0.00/547M [00:00<?, ?B/s]"
      ]
     },
     "metadata": {},
     "output_type": "display_data"
    },
    {
     "data": {
      "application/vnd.jupyter.widget-view+json": {
       "model_id": "1533d6acdafe4ea9958d1b1d02f4d531",
       "version_major": 2,
       "version_minor": 0
      },
      "text/plain": [
       "tokenizer_config.json:   0%|          | 0.00/1.38k [00:00<?, ?B/s]"
      ]
     },
     "metadata": {},
     "output_type": "display_data"
    },
    {
     "data": {
      "application/vnd.jupyter.widget-view+json": {
       "model_id": "e2ce6c0a75b24581b6d4602a413e1f64",
       "version_major": 2,
       "version_minor": 0
      },
      "text/plain": [
       "vocab.txt:   0%|          | 0.00/232k [00:00<?, ?B/s]"
      ]
     },
     "metadata": {},
     "output_type": "display_data"
    },
    {
     "data": {
      "application/vnd.jupyter.widget-view+json": {
       "model_id": "ba1b46f7bf66436eaea35ea3a4076e83",
       "version_major": 2,
       "version_minor": 0
      },
      "text/plain": [
       "tokenizer.json:   0%|          | 0.00/712k [00:00<?, ?B/s]"
      ]
     },
     "metadata": {},
     "output_type": "display_data"
    },
    {
     "data": {
      "application/vnd.jupyter.widget-view+json": {
       "model_id": "15707d289b6c4ac19de404966d05f5b5",
       "version_major": 2,
       "version_minor": 0
      },
      "text/plain": [
       "special_tokens_map.json:   0%|          | 0.00/695 [00:00<?, ?B/s]"
      ]
     },
     "metadata": {},
     "output_type": "display_data"
    },
    {
     "data": {
      "application/vnd.jupyter.widget-view+json": {
       "model_id": "6eebbe4e263342849210c4843775faa5",
       "version_major": 2,
       "version_minor": 0
      },
      "text/plain": [
       "1_Pooling/config.json:   0%|          | 0.00/297 [00:00<?, ?B/s]"
      ]
     },
     "metadata": {},
     "output_type": "display_data"
    }
   ],
   "source": [
    "model = SentenceTransformer(\"Alibaba-NLP/gte-base-en-v1.5\", trust_remote_code=True)"
   ]
  },
  {
   "cell_type": "markdown",
   "metadata": {},
   "source": [
    "### Fetch Text Content from Wikipedia"
   ]
  },
  {
   "cell_type": "code",
   "execution_count": 5,
   "metadata": {},
   "outputs": [],
   "source": [
    "wiki = Wikipedia('RAGBot/0.0', 'en')\n",
    "doc = wiki.page('Muhammad_Yunus').text\n",
    "paragraphs = doc.split('\\n\\n') # chunking\n"
   ]
  },
  {
   "cell_type": "code",
   "execution_count": 6,
   "metadata": {},
   "outputs": [
    {
     "name": "stdout",
     "output_type": "stream",
     "text": [
      "-----------------------------------------------------------------\n",
      "Muhammad Yunus (born 28 June 1940) is a Bangladeshi entrepreneur, banker, economist, politician, and\n",
      "civil society leader who has been serving as the Chief Adviser of the interim government of\n",
      "Bangladesh since 8 August 2024. Yunus was awarded the Nobel Peace Prize in 2006 for founding the\n",
      "Grameen Bank and pioneering the concepts of microcredit and microfinance. Yunus has received several\n",
      "other national and international honors, including the United States Presidential Medal of Freedom\n",
      "in 2009 and the Congressional Gold Medal in 2010. Yunus is one of just seven individuals who have\n",
      "been awarded the Nobel Peace Prize, the United States Presidential Medal of Freedom, and the United\n",
      "States Congressional Gold Medal. In 2012, Yunus became Chancellor of Glasgow Caledonian University\n",
      "in Scotland, a position he held until 2018. Previously, he was a professor of economics at\n",
      "Chittagong University in Bangladesh. He published several books related to his finance work. He is a\n",
      "founding board member of Grameen America and Grameen Foundation, which support microcredit. Yunus\n",
      "also served on the board of directors of the United Nations Foundation, a public charity to support\n",
      "UN causes, from 1998 to 2021. In 2022, he partnered with Global Esports Federation to build esports\n",
      "for the development movement. After dissolving parliament on 6 August 2024, Bangladeshi president\n",
      "Mohammed Shahabuddin nominated Yunus to serve as the head of the interim government of Bangladesh,\n",
      "acceding to student demands following the resignation of former Prime Minister Sheikh Hasina. His\n",
      "acquittal on appeal the following day of charges of labor code violations, which were viewed as\n",
      "politically motivated, facilitated his return to the country and appointment.\n",
      "-----------------------------------------------------------------\n",
      "-----------------------------------------------------------------\n",
      "Early life and education Early years The third of nine children, Muhammad Yunus was born on 28 June\n",
      "1940 to a Bengali family of Muslim Saudagars in the village of Bathua, by the Kaptai road at\n",
      "Hathazari in the Chittagong District of Bengal Presidency (now in Bangladesh). His father was Haji\n",
      "Muhammad Dula Mia Soudagar, a jeweller, and his mother was Sufia Khatun. His early childhood was\n",
      "spent in the village. In 1944, his family moved to the city of Chittagong, and he moved from his\n",
      "village school to Lamabazar Primary School. By 1949, his mother was afflicted with psychological\n",
      "illness. Later, he passed the matriculation examination from Chittagong Collegiate School ranking\n",
      "16th of 39,000 students in East Pakistan. During his school years, he was an active Boy Scout, and\n",
      "travelled to West Pakistan and India in 1952, and to Canada in 1955 to attend Jamborees. Later,\n",
      "while Yunus was studying at Chittagong College, he became active in cultural activities and won\n",
      "awards for drama. In 1957, he enrolled in the Department of Economics at Dhaka University and\n",
      "completed his BA in 1960 and MA in 1961.\n",
      "-----------------------------------------------------------------\n",
      "-----------------------------------------------------------------\n",
      "After graduation After his graduation, Yunus joined the Bureau of Economics as a research assistant\n",
      "to the economics researches of Nurul Islam and Rehman Sobhan. Later, he was appointed lecturer in\n",
      "economics in Chittagong College in 1961. During that time, he also set up a profitable packaging\n",
      "factory on the side.  In 1965, he received a Fulbright scholarship to study in the United States. He\n",
      "obtained his PhD in economics from the Vanderbilt University Graduate Program in Economic\n",
      "Development (GPED) in 1971. From 1969 to 1972, Yunus was assistant professor of economics at Middle\n",
      "Tennessee State University in Murfreesboro. During the Bangladesh Liberation War in 1971, Yunus\n",
      "founded a citizen's committee and ran the Bangladesh Information Center, with other Bangladeshis in\n",
      "the United States, to raise support for liberation. He also published the Bangladesh Newsletter from\n",
      "his home in Nashville. After the War, he returned to Bangladesh and was appointed to the\n",
      "government's Planning Commission headed by Nurul Islam. However, he found the job boring and\n",
      "resigned to join Chittagong University as head of the Economics department. After observing the\n",
      "famine of 1974, he became involved in poverty reduction and established a rural economic programme\n",
      "as a research project. In 1975, he developed a Nabajug (New Era) Tebhaga Khamar (three share farm)\n",
      "which the government adopted as the Packaged Input Programme. To make the project more effective,\n",
      "Yunus and his associates proposed the Gram Sarkar (the village government) programme. Introduced by\n",
      "president Ziaur Rahman in the late 1970s, the government formed 40,392 village governments as a\n",
      "fourth layer of government in 2003. On 2 August 2005, in response to a petition by Bangladesh Legal\n",
      "Aid and Services Trust (BLAST), the High Court declared village governments illegal and\n",
      "unconstitutional. His concept of microcredit for supporting innovators in multiple developing\n",
      "countries also inspired programmes such as the Info lady Social Entrepreneurship Programme.\n",
      "-----------------------------------------------------------------\n",
      "-----------------------------------------------------------------\n",
      "Early career In 1976, during visits to the poorest households in the village of Jobra near\n",
      "Chittagong University, Yunus discovered that very small loans could make a disproportionate\n",
      "difference to a poor person. Village women who made bamboo furniture had to take usurious loans to\n",
      "buy bamboo, and repay their profits to the lenders. Traditional banks did not want to make tiny\n",
      "loans at reasonable interest to the poor due to high risk of default. But Yunus believed that, given\n",
      "the chance, the poor will not need to pay high interest on the money, can keep any profits from\n",
      "their own labor, and hence microcredit was a viable business model.  Yunus lent US$27 of his money\n",
      "to 42 women in the village, who made a profit of BDT 0.50 (US$0.02) each on the loan. Thus, Yunus is\n",
      "credited with the idea of microcredit. In December 1976, Yunus finally secured a loan from the\n",
      "government Janata Bank to lend to the poor in Jobra. The institution continued to operate, securing\n",
      "loans from other banks for its projects. By 1982, it had 28,000 members. On 1 October 1983, the\n",
      "pilot project began operation as a full-fledged bank for poor Bangladeshis and was renamed Grameen\n",
      "Bank (\"Village Bank\"). By July 2007, Grameen had issued US$6.38 billion to 7.4 million borrowers. To\n",
      "ensure repayment, the bank uses a system of \"solidarity groups\". These small informal groups apply\n",
      "together for loans and its members act as co-guarantors of repayment and support one another's\n",
      "efforts at economic self-advancement. In the late 1980s, Grameen started to diversify by attending\n",
      "to underutilized fishing ponds and irrigation pumps like deep tube wells. In 1989, these diversified\n",
      "interests started growing into separate organisations. The fisheries project became Grameen Motsho\n",
      "(\"Grameen Fisheries Foundation\") and the irrigation project became Grameen Krishi (\"Grameen\n",
      "Agriculture Foundation\"). In time, the Grameen initiative grew into a multi-faceted group of\n",
      "profitable and non-profit ventures, including major projects like Grameen Trust and Grameen Fund,\n",
      "which runs equity projects like Grameen Software Limited, Grameen CyberNet Limited, and Grameen\n",
      "Knitwear Limited, as well as Grameen Telecom, which has a stake in Grameenphone (GP), the biggest\n",
      "private phone company in Bangladesh. From its start in March 1997 to 2007, GP's Village Phone (Polli\n",
      "Phone) project had brought cell-phone ownership to 260,000 rural poor in over 50,000 villages.\n",
      "-----------------------------------------------------------------\n",
      "-----------------------------------------------------------------\n",
      "The success of the Grameen microfinance model inspired similar efforts in about 100 developing\n",
      "countries and even in developed countries including the United States. Many microcredit projects\n",
      "retain Grameen's emphasis of lending to women. More than 94% of Grameen loans have gone to women,\n",
      "who suffer disproportionately from poverty and who are more likely than men to devote their earnings\n",
      "to their families. For his work with Grameen, Yunus was named an Ashoka: Innovators for the Public\n",
      "Global Academy Member in 2001. According to Rashidul Bari, the Grameen's social business model has\n",
      "gone from being theory to an inspiring practice adopted globally by leading universities,\n",
      "entrepreneurs and corporations.\n",
      "-----------------------------------------------------------------\n",
      "-----------------------------------------------------------------\n",
      "Recognition Yunus was awarded the 2006 Nobel Peace Prize, along with Grameen Bank, for their efforts\n",
      "to create economic and social development:\n",
      "-----------------------------------------------------------------\n",
      "-----------------------------------------------------------------\n",
      "Muhammad Yunus has shown himself to be a leader who has managed to translate visions into practical\n",
      "action for the benefit of millions of people, not only in Bangladesh, but also in many other\n",
      "countries. Loans to poor people without any financial security had appeared to be an impossible\n",
      "idea. From modest beginnings three decades ago, Yunus has, first and foremost through Grameen Bank,\n",
      "developed micro-credit into an ever more important instrument in the struggle against poverty. Yunus\n",
      "was the first Bangladeshi to ever get a Nobel Prize. After receiving the news of the important\n",
      "award, Yunus announced that he would use part of his share of the $1.4 million (equivalent to $2.12\n",
      "million in 2023) award money to create a company to make low-cost, high-nutrition food for the poor;\n",
      "while the rest would go towards establishing the Yunus Science and Technology University in his home\n",
      "district as well as setting up an eye hospital for the poor in Bangladesh. Former U.S. president\n",
      "Bill Clinton was a vocal advocate for the awarding of the Nobel Prize to Yunus. He expressed this in\n",
      "Rolling Stone magazine as well as in his autobiography My Life. In a speech given at University of\n",
      "California, Berkeley in 2002, President Clinton described Yunus as \"a man who long ago should have\n",
      "won the Nobel Prize [in Economics and] I'll keep saying that until they finally give it to him.\"\n",
      "Conversely, The Economist stated explicitly that while Yunus was doing excellent work to fight\n",
      "poverty, it was not appropriate to award him the Peace Prize, stating: \"... the Nobel committee\n",
      "could have made a braver, more difficult, choice by declaring that there would be no recipient at\n",
      "all.\"\n",
      "-----------------------------------------------------------------\n",
      "-----------------------------------------------------------------\n",
      "He is one of only seven persons to have won the Nobel Peace Prize, Presidential Medal of Freedom,\n",
      "and the Congressional Gold Medal. Other notable awards include the Ramon Magsaysay Award in 1984,\n",
      "the World Food Prize, the International Simon Bolivar Prize (1996), the Prince of Asturias Award for\n",
      "Concord and the Sydney Peace Prize in 1998,  and the Seoul Peace Prize in 2006. Additionally, Yunus\n",
      "has been awarded 50 honorary doctorate degrees from universities across 20 countries, and 113\n",
      "international awards from 26 countries including state honours from 10 countries. Bangladesh\n",
      "government brought out a commemorative stamp to honour his Nobel Award. Yunus was named by Fortune\n",
      "Magazine in March 2012 as one of 12 greatest entrepreneurs of the current era. In its citation,\n",
      "Fortune Magazine said \"Yunus' idea inspired countless numbers of young people to devote themselves\n",
      "to social causes all over the world.\" In January 2008, Houston, Texas declared 14 January as\n",
      "\"Muhammad Yunus Day\". Yunus was named among the most desired thinkers the world should listen to by\n",
      "the FP 100 (world's most influential elite) in the December 2009 issue of Foreign Policy magazine.\n",
      "-----------------------------------------------------------------\n",
      "-----------------------------------------------------------------\n",
      "In 2010, the British magazine New Statesman listed Yunus at 40th in the list of \"The World's 50 Most\n",
      "Influential Figures 2010\".\n",
      "-----------------------------------------------------------------\n",
      "-----------------------------------------------------------------\n",
      "Yunus received 50 honorary doctorate degrees from universities from Argentina, Australia,\n",
      "Bangladesh, Belgium, Canada, Costa Rica, India, Italy, Japan, Korea, Lebanon, Malaysia, Peru,\n",
      "Russia, South Africa, Spain, Thailand, Turkey, the UK, and the US. United Nations Secretary-General\n",
      "Ban Ki-moon invited Yunus to serve as an MDG Advocate. Yunus sits on the Board of United Nations\n",
      "Foundation, Schwab Foundation, Prince Albert II of Monaco Foundation, Grameen Credit Agricole\n",
      "Microcredit Foundation. He has been a member of Fondation Chirac's honour committee, ever since the\n",
      "foundation was launched in 2008 by former French president Jacques Chirac in order to promote world\n",
      "peace. Yunus has become a well-known international figure. He has delivered numerous lectures around\n",
      "the world, and has appeared on popular television shows, including The Daily Show with Jon Stewart\n",
      "and The Oprah Winfrey Show in 2006, The Colbert Report in 2008, Real Time with Bill Maher in 2009\n",
      "and The Simpsons in 2010. On Google+, Yunus was one of the most followed people worldwide, with over\n",
      "two million followers until Google closed its operations in 2019. He has played a key advisory role\n",
      "in the Paris 2024 Olympics, promoting social business principles and encouraging sustainable,\n",
      "socially responsible projects. His influence led to initiatives like prioritizing social businesses\n",
      "in public tenders and integrating social housing into the athletes' village redevelopment.\n",
      "-----------------------------------------------------------------\n",
      "-----------------------------------------------------------------\n",
      "Political career In early 2006 Yunus, along with other members of the civil society including Rehman\n",
      "Sobhan, Muhammad Habibur Rahman, Kamal Hossain, Matiur Rahman, Mahfuz Anam and Debapriya\n",
      "Bhattacharya, participated in a campaign for honest and clean candidates in national elections. He\n",
      "considered entering politics in the later part of that year. On 11 February 2007, Yunus wrote an\n",
      "open letter, published in the Bangladeshi newspaper Daily Star, where he asked citizens for views on\n",
      "his plan to float a political party to establish political goodwill, proper leadership and good\n",
      "governance. In the letter, he called on everyone to briefly outline how he should go about the task\n",
      "and how they can contribute to it. Yunus finally announced that he is willing to launch a political\n",
      "party tentatively called Citizens' Power (Nagorik Shakti) on 18 February 2007. There was speculation\n",
      "that the army supported a move by Yunus into politics. On 3 May, however, Yunus declared that he had\n",
      "decided to abandon his political plans following a meeting with the head of the interim government,\n",
      "Fakhruddin Ahmed. In July 2007, in Johannesburg, South Africa, Nelson Mandela, Graça Machel and\n",
      "Desmond Tutu convened a group of world leaders \"to contribute their wisdom, independent leadership\n",
      "and integrity to tackle some of the world's toughest problems.\" Nelson Mandela announced the\n",
      "formation of this new group, The Elders, in a speech he delivered on the occasion of his 89th\n",
      "birthday. Yunus attended the launch of the group and was one of its founding members. He stepped\n",
      "down as an Elder in September 2009, stating that he was unable to do justice to his membership due\n",
      "to the demands of his work. Yunus is a member of the Africa Progress Panel (APP), a group of ten\n",
      "distinguished individuals who advocate at the highest levels for equitable and sustainable\n",
      "development in Africa. Every year, the Panel releases a report, the Africa Progress Report, that\n",
      "outlines an issue of immediate importance to the continent and suggests a set of associated\n",
      "policies. In July 2009, Yunus became a member of the SNV Netherlands Development Organisation\n",
      "International Advisory Board to support the organisation's poverty reduction work. Since 2010, Yunus\n",
      "has served as a Commissioner for the Broadband Commission for Digital Development, a UN initiative\n",
      "which seeks to use broadband internet services to accelerate social and economic development. In\n",
      "March 2016, he was appointed by United Nations Secretary-General Ban Ki-moon to the High-Level\n",
      "Commission on Health Employment and Economic Growth, which was co-chaired by presidents François\n",
      "Hollande of France and Jacob Zuma of South Africa. Following the Rohingya genocide in 2016–2017,\n",
      "Yunus urged Myanmar to end violence against Rohingya Muslims.\n",
      "-----------------------------------------------------------------\n",
      "-----------------------------------------------------------------\n",
      "Advisor to the Interim Government In 1996, Muhammad Yunus served as an advisor to the interim\n",
      "government led by former Chief Justice Muhammad Habibur Rahman. He was responsible for overseeing\n",
      "the Ministry of Primary and Mass Education, the Ministry of Science and Technology, and the Ministry\n",
      "of Environment and Forests.\n",
      "-----------------------------------------------------------------\n",
      "-----------------------------------------------------------------\n",
      "Chief Advisor of Bangladesh Amid the non-cooperation movement protests in Bangladesh, Yunus\n",
      "expressed support for the students and his distaste of the current government, and in August 2024,\n",
      "after the resignation of Sheikh Hasina and her departure to India, it was announced that Yunus would\n",
      "be chief adviser of the interim government. Muhammad Yunus was appointed as the transitional leader\n",
      "of the interim government on 7 August 2024 by president Mohammed Shahabuddin. On 8 August 2024, he\n",
      "took the oath and has been serving as the Chief Advisor of the 2024 Bangladesh interim government.\n",
      "After the oath he visited injured peoples in Dhaka Medical College. On 10 August 2024, he visited\n",
      "the home and family members of Abu Sayed. He also visited injured student protesters in the Rangpur\n",
      "Medical College. Following communal violence after Hasina's resignation, Yunus threatened to resign\n",
      "if the violence continued and vowed to crack down on conspirators of the attacks. As Chief Adviser,\n",
      "Yunus has pledged to continue providing humanitarian aid to Rohingya refugees in Bangladesh and\n",
      "support the garment industry amid disruptions caused by the unrest prior to his appointment.\n",
      "-----------------------------------------------------------------\n",
      "-----------------------------------------------------------------\n",
      "Reception 2011 dismissal The second Sheikh Hasina government, which many perceived to be dictatorial\n",
      "and authoritarian, announced a review of Grameen Bank activities on 11 January 2011. In February\n",
      "2011, several international leaders, such as Mary Robinson, stepped up their defence of Yunus\n",
      "through a number of efforts, including the founding of a formal network of supporters known as\n",
      "\"Friends of Grameen\". On 15 February 2011, the Finance Minister of Bangladesh, Abul Maal Abdul\n",
      "Muhith, declared that Yunus should \"stay away\" from Grameen Bank while it is being investigated. On\n",
      "2 March 2011, Muzammel Huq, a former Bank employee, whom the government had appointed chairman in\n",
      "January, announced that Yunus had been fired as managing director of the Bank. However, Bank General\n",
      "Manager Jannat-E Quanine issued a statement that Yunus was \"continuing in his office\" pending review\n",
      "of the legal issues surrounding the controversy. In March 2011, Yunus petitioned the Bangladesh High\n",
      "Court challenging the legality of the decision by the Bangladeshi Central Bank to remove him as\n",
      "managing director of Grameen Bank. The same day, nine elected directors of Grameen Bank filed a\n",
      "second petition. U.S. Senator John Kerry expressed his support to Yunus in a statement on 5 March\n",
      "2011 and declared that he was \"deeply concerned\" by this affair. The same day in Bangladesh,\n",
      "thousands of people protested and formed human chains to support Yunus. The High Court hearing on\n",
      "the petitions, was planned for 6 March 2011 but postponed. On 8 March 2011, the Court confirmed\n",
      "Yunus's dismissal.\n",
      "-----------------------------------------------------------------\n",
      "-----------------------------------------------------------------\n",
      "Accusation of 'loan sharking' and effectiveness of microfinance The allegations against Muhammad\n",
      "Yunus and Grameen Bank were made in a context where some people began to question the effectiveness\n",
      "of microfinance, prompted by the actions of some for-profit microfinance institutions (MFIs) in\n",
      "India and Mexico. Coercion, peer pressure and physical harassment were reportedly used as loan\n",
      "repayment practices in some specific MFIs. Commercialisation of microcredit prompted Yunus to state\n",
      "that he \"never imagined that one day microcredit would give rise to its own breed of loan sharks.\"\n",
      "The lure of profits attracted some for-profit MFIs to hold initial public offerings (IPOs),\n",
      "including the largest Indian MFI, SKS Microfinance, which held an IPO in July 2010. In September\n",
      "2010, Yunus criticised the IPO; in a debate with SKS founder Vikram Akula during the Clinton Global\n",
      "Initiative meeting, he said, \"Microcredit is not about exciting people to make money off the poor.\n",
      "That's what you're doing. That's the wrong message completely.\" Calculations of actual interest rate\n",
      "vary, but one estimate puts average Grameen rates at about a 23% interest rate (comparable to the\n",
      "inflation rate). Also see what annual interest do NGOs earn from a fixed initial capital?\n",
      "-----------------------------------------------------------------\n",
      "-----------------------------------------------------------------\n",
      "Political motivations behind the allegations In December 2010, Grameen Bank was quickly cleared by\n",
      "the Norwegian government of all allegations surrounding misused or misappropriated funds. Yet, in\n",
      "March 2011, the Bangladeshi government launched a three-month investigation of all Grameen Bank's\n",
      "activities. This inquiry prevented Muhammad Yunus from participating in the World Economic Forum. In\n",
      "January 2011, Yunus appeared in court in a defamation case filed by a local politician from a minor\n",
      "left-leaning party in 2007, complaining about a statement that Yunus made to the AFP news agency,\n",
      "\"Politicians in Bangladesh only work for power. There is no ideology here\". At the hearing, Yunus\n",
      "was granted bail and exempted from personal appearance at subsequent hearings. These investigations\n",
      "fueled suspicion that many attacks might be politically motivated, due to difficult relations\n",
      "between Sheikh Hasina and Yunus since early 2007, when Yunus created his own political party, an\n",
      "effort he dropped in May 2007.\n",
      "-----------------------------------------------------------------\n",
      "-----------------------------------------------------------------\n",
      "Food adulteration case On 27 January 2011, Yunus appeared in court in a food-adulteration case filed\n",
      "by the Dhaka City Corporation (DCC) Food Safety Court, accusing him of producing an \"adulterated\"\n",
      "yogurt whose fat content was below the legal minimum. This yogurt is produced by Grameen Danone, a\n",
      "social business joint venture between Grameen Bank and Danone that aims to provide opportunities for\n",
      "street vendors who sell the yogurt and to improve child nutrition with the nutrient-fortified\n",
      "yogurt. According to Yunus's lawyer, the allegations are \"false and baseless\".\n",
      "-----------------------------------------------------------------\n",
      "-----------------------------------------------------------------\n",
      "Trials Yunus faced 174 lawsuits in Bangladesh, 172 of which were civil cases. Allegations included\n",
      "labour law violations, corruption, and money laundering, which Yunus alleged were politically\n",
      "motivated. Hasina launched a series of trials against Yunus. The former put the latter on trial in\n",
      "2010 and ultimately removed him from Grameen Bank, citing his age. In 2013, he tried a second time,\n",
      "because he had supposedly received earnings without the necessary government permission, including\n",
      "his Nobel Peace Prize earnings and royalties from his book sales. The series of trials against Yunus\n",
      "puzzled figures worldwide, from the 8.3 million underprivileged women served by Grameen Bank to U.S.\n",
      "President Barack Obama. Vikas Bajaj wrote on 7 November 2013:\n",
      "-----------------------------------------------------------------\n",
      "-----------------------------------------------------------------\n",
      "The government of Bangladesh has played its trump card in its long-running campaign against Grameen\n",
      "Bank and its founder Muhammad Yunus. Last week, legislators passed a law that effectively\n",
      "nationalizes the bank, which pioneered the idea of making small loans to poor women, by wresting\n",
      "control of it from the 8.4 million rural women that own a majority of its shares. On 1 January 2024,\n",
      "a court in Bangladesh sentenced Yunus to a six-month prison term, along with three employees from\n",
      "Grameen Telecom for labor law violations. However, the court granted bail pending appeals. Amnesty\n",
      "International declared Yunus's conviction a \"blatant abuse\" of the justice system. The conviction\n",
      "was overturned on 7 August 2024 following an appeal. He has been acquitted in a graft case filed by\n",
      "the Anti-Corruption Commission (ACC) just four days after getting acquittal for the labour\n",
      "violations case.\n",
      "-----------------------------------------------------------------\n",
      "-----------------------------------------------------------------\n",
      "Background For many years, Yunus remained a follower of Hasina's father, Sheikh Mujib, the country's\n",
      "founding father. While, teaching at Middle Tennessee State University, Yunus founded the Bangladesh\n",
      "Citizen's Committee (BCC) as a response to West Pakistan's aggression against Bangladesh. After the\n",
      "outbreak of the war of liberation, the BCC selected Yunus to become editor of its Bangladesh News\n",
      "Letter. Inspired by the birth of Bangladesh in 1971, Yunus returned home in 1972. The relationship\n",
      "continued after Mujib's death. Yunus maintained a professional relationship with Hasina. Yunus\n",
      "appointed Hasina—along with U.S. First Lady Hillary Clinton—as co-chair of a microcredit summit held\n",
      "2–4 February 1997. At this event, 50 heads of state and high-level officials from 137 nations\n",
      "gathered in Washington, DC, to discuss solutions to poverty. At this event, Hasina had nothing but\n",
      "praise for Yunus. In her statement she praised, \"the outstanding work done by Professor Yunus and\n",
      "the Grameen Bank he founded. ... The success of the Grameen Bank has created optimism about the\n",
      "viability of banks engaged in extending micro-credit to the poor\". The inaugural ceremony of Grameen\n",
      "Phone, Bangladesh's largest telephone service, took place at Hasina's office on 26 March 1997. Using\n",
      "Grameen Phone, Hasina made the first call to Thorbjorn Jagland, the then-Norwegian prime minister.\n",
      "When her conversation ended, she received another call, from Laily Begum, a Grameen Phone employee.\n",
      "However, this long relationship ended in 2007 after Yunus disclosed his intention to form a\n",
      "political party, Nagorik Shakti.\n",
      "-----------------------------------------------------------------\n",
      "-----------------------------------------------------------------\n",
      "From friend to foe The Awami League government of Sheikh Hasina campaigned against Grameen and\n",
      "Yunus. The New York Times reported, \"Her actions appear to be retaliation for Mr. Yunus's\n",
      "announcement in 2007 that he would seek public office, even though he never went through with his\n",
      "plans\". According to Times of India, one other factor contributed to her decision against Yunus: the\n",
      "Nobel Peace Prize. Hasina thought she would win the Nobel Peace Prize for signing the 1997\n",
      "Chittagong Hill Tracts peace treaty. On 9 March, Attorney General Mahbubey Alam expressed the\n",
      "government's attitude when he said, \"Prime Minister Sheikh Hasina should have been awarded the Nobel\n",
      "Peace Prize\". He went on to challenge the wisdom of the Nobel committee.\n",
      "-----------------------------------------------------------------\n",
      "-----------------------------------------------------------------\n",
      "Historical description On 11 January 2007, Army General Moeen U Ahmed staged a military coup.\n",
      "Meanwhile, Yunus turned down his request to become the nation's fourth Chief Advisor after Khaleda\n",
      "Zia's term ended. Yunus, however, suggested the general pick Fakhruddin Ahmed for the job.\n",
      "Fakhruddin took office on 11 January 2007 and made it clear on his first day that he intended not\n",
      "only to arrange a free and fair election but also to clean up corruption. While Khaleda and Hasina\n",
      "criticised Fakruddin and claimed that it was not his job to clean up corruption, Yunus expressed his\n",
      "satisfaction. In an interview with the AFP news agency, Yunus remarked \"There is no ideology here.\"\n",
      "Hasina had a harsh reaction to Yunus's comments, calling him a \"usurer who has not only failed to\n",
      "eradicate poverty but has also nurtured poverty.\" This was Hasina's first public statement against\n",
      "Yunus. Later Yunus announced the name of this prospective political party, Nagorik Shakti (Citizen's\n",
      "Power), saying he had a mission to enter the political arena in his nation in hope of changing its\n",
      "identity from \"bottomless basket\" to \"rising tiger\". However, on 3 May, Yunus published a third open\n",
      "letter and put his political ambitions to rest.\n",
      "-----------------------------------------------------------------\n",
      "-----------------------------------------------------------------\n",
      "Proceedings The Bangladesh government launched the first trial against Yunus in December 2010,\n",
      "alleging that in 1996 he had transferred approximately $100 million to a sister company of Grameen\n",
      "Bank. Yunus denied the allegations and he was found innocent by the Norwegian government. Yunus\n",
      "became subject to legal proceedings over three criminal cases. A criminal defamation case was filed\n",
      "against Yunus for criticising politicians in 2007. A food inspector filed another case against\n",
      "Yunus, alleging that yogurt manufactured by Grameen-Danone was adulterated. The final blow came on 3\n",
      "March 2011. Bangladesh Bank informed Grameen in a letter that Yunus had been removed from Grameen,\n",
      "citing old age. Backed by nine boards of directors, 22 thousand employees, and 8.3 million Grameen\n",
      "borrowers, Yunus defied the government order, returned to Grameen's headquarters in Dhaka, and\n",
      "lodged an appeal at Dhaka High Court against the decision. However, Justice Mohammad Momtazuddin\n",
      "Ahmed and Justice Gobinda Chandra Tagore delivered the verdict against Yunus, claiming that Yunus's\n",
      "posting as the MD of Grameen since 1999 was illegal as he had reached the age of 60 by then. Backed\n",
      "by international leaders (e.g., Hillary and Bill Clinton), national leaders (e.g., Sir Fazle Hasan\n",
      "Abed) and 8.3 million Grameen borrowers, Yunus filed an appeal in Bangladesh Supreme Court against\n",
      "the High Court's verdict. The full bench of the Appellate Division headed by Chief Justice ABM\n",
      "Khairul Haque heard the appeal on 15 March 2011 and upheld Yunus's removal by the government.\n",
      "-----------------------------------------------------------------\n",
      "-----------------------------------------------------------------\n",
      "From 2012 On 2 August 2012, Sheikh Hasina approved a draft of \"Grameen Bank Ordinance 2012\" to\n",
      "increase government control over the bank. That power resided with the bank's directors—nine poor\n",
      "women who were elected by 8.3 million Grameen borrowers. Hasina also ordered a fresh investigation\n",
      "into Yunus's activities and financial transactions in his later years as managing director of\n",
      "Grameen, but people saw the move as an attempt to destroy his image. The prime minister also alleged\n",
      "that Yunus had received his earnings without the necessary permission from the government, including\n",
      "his Nobel Peace Prize earnings and book royalties. On 4 October 2013, Bangladesh's cabinet approved\n",
      "the draft of a new law that would give the country's central bank greater control over Grameen Bank,\n",
      "raising the stakes in the long-running dispute. The Grameen Bank Act 2013 was approved at a cabinet\n",
      "meeting chaired by Prime Minister Sheikh Hasina and was passed by parliament on 7 November 2013. It\n",
      "replaced the Grameen Bank Ordinance, the law that underpinned the creation of Grameen Bank as a\n",
      "specialised microcredit institution in 1983. The New York Times reported in August 2013:\n",
      "-----------------------------------------------------------------\n",
      "-----------------------------------------------------------------\n",
      "Since then, the government has started an investigation into the bank and is now planning to take\n",
      "over Grameen—a majority of whose shares are owned by its borrowers—and break it up into 19 regional\n",
      "lenders.\n",
      "-----------------------------------------------------------------\n",
      "-----------------------------------------------------------------\n",
      "Personal life Yunus belongs to Muslim family and continues to actively display a normative orthodox\n",
      "Sunnite theological creed. He encourages the public to engage in Dua directly to Allah, whom Yunus\n",
      "publicly recognises as the supreme source of assistance and support, and as the master of Divine\n",
      "Decree. In 1967, while Yunus attended Vanderbilt University, he met Vera Forostenko, a student of\n",
      "Russian literature at Vanderbilt University and daughter of Russian immigrants to Trenton, New\n",
      "Jersey, United States. They were married in 1970. Yunus's marriage with Vera ended within months of\n",
      "the birth of their baby girl, Monica Yunus, in 1979 in Chittagong, as Vera returned to New Jersey\n",
      "claiming that Bangladesh was not a good place to raise a baby. Monica Yunus became an operatic\n",
      "soprano based in New York City. Yunus later married Afrozi Yunus, who was then a researcher in\n",
      "physics at Manchester University. She was later appointed as a professor of physics at Jahangirnagar\n",
      "University. Their daughter Deena Afroz Yunus was born in 1986. Yunus's brother Muhammad Ibrahim is a\n",
      "former professor of physics at the University of Dhaka and the founder of The Center for Mass\n",
      "Education in Science (CMES), which brings science education to adolescent girls in villages. His\n",
      "other brother Muhammad Jahangir (d. 2019) was a television presenter and a social activist in\n",
      "Bangladesh.\n",
      "-----------------------------------------------------------------\n",
      "-----------------------------------------------------------------\n",
      "Yunus Centre The Yunus Centre, located in Dhaka, Bangladesh, is a think tank focused on social\n",
      "business, poverty alleviation, and sustainability. Founded in 2008 and chaired by Dr Yunus, it\n",
      "promotes his philosophy of social business and serves as a resource center for related initiatives.\n",
      "The centre's activities include poverty eradication campaigns, research and publications, support\n",
      "for social business start-ups, organizing the Global Social Business Summit, and developing academic\n",
      "programs on social business with international universities.\n",
      "-----------------------------------------------------------------\n",
      "-----------------------------------------------------------------\n",
      "Publications Yunus, Muhammad (1974). Three Farmers of Jobra. Department of Economics, Chittagong\n",
      "University. —— (1976). \"Muhammad Yunus\". Encyclopedia of Corporate Social Responsibility. Chittagong\n",
      "University. pp. 1728–1730. doi:10.1007/978-3-642-28036-8_715. ISBN 978-3-642-28035-1. ——; Isalama,\n",
      "Saiyada Manajurula; Rahman, Arifa (1991). Jorimon and Others: Faces of Poverty. Grameen Bank. ——\n",
      "(1994). Grameen Bank, as I See it. Grameen Bank. —— (1999). Banker to the Poor: Micro-Lending and\n",
      "the Battle Against World Poverty. New York: PublicAffairs. ISBN 978-1-58648-198-8. —— (2007).\n",
      "Creating a World without Poverty: Social Business and the Future of Capitalism. New York:\n",
      "PublicAffairs. ISBN 978-1-58648-493-4. —— (2010). Building Social Business: The New Kind of\n",
      "Capitalism that Serves Humanity's Most Pressing Needs. New York: Public Affairs. ISBN\n",
      "978-1-58648-824-6. Yunus, Muhammad, Moingeon, Bertrand and Laurence Lehmann-Ortega (2010), \"Building\n",
      "Social Business Models: Lessons from the Grameen Experience\", April–June, vol 43, number 2–3, Long\n",
      "Range Planning, pp. 308–325 —— (2017). A World of Three Zeroes: the new economics of zero poverty,\n",
      "zero unemployment, and zero carbon emissions. Scribe Publications.\n",
      "-----------------------------------------------------------------\n",
      "-----------------------------------------------------------------\n",
      "Documentaries 2000 – Sixteen Decisions 2010 – To Catch a Dollar 2011 – Bonsai People – The Vision of\n",
      "Muhammad Yunus directed by Holly Mosher\n",
      "-----------------------------------------------------------------\n",
      "-----------------------------------------------------------------\n",
      "See also Fazle Hasan Abed Islamic banking Yunus Social Business\n",
      "-----------------------------------------------------------------\n",
      "-----------------------------------------------------------------\n",
      "References Footnotes\n",
      "-----------------------------------------------------------------\n",
      "-----------------------------------------------------------------\n",
      "Citations\n",
      "-----------------------------------------------------------------\n",
      "-----------------------------------------------------------------\n",
      "Further reading Bornstein, David (1996). The Price of a Dream: The Story of the Grameen Bank and the\n",
      "Idea that is Helping the Poor to Change Their Lives. Simon & Schuster. ISBN 978-0-684-81191-8.\n",
      "Kallol, Asif Showkat (1 November 2013). \"Female directors vow to stop GB law\". Dhaka Tribune.\n",
      "Archived from the original on 20 December 2016. Retrieved 8 July 2015. Pakiam, Ranjeetha; Mehrotra,\n",
      "Kartikay (6 November 2013). \"Yunus Sees New Law Spelling Beginning of the End for Grameen\".\n",
      "Bloomberg Businessweek. Archived from the original on 15 November 2013. Retrieved 8 July 2015.\n",
      "\"Yunus not enjoying respect he deserves\". The Financial Express. Dhaka. 14 November 2013. Archived\n",
      "from the original on 20 December 2016. Retrieved 8 July 2015.\n",
      "-----------------------------------------------------------------\n",
      "-----------------------------------------------------------------\n",
      "External links\n",
      "-----------------------------------------------------------------\n",
      "-----------------------------------------------------------------\n",
      "Official website  Muhammad Yunus on Nobelprize.org  Appearances on C-SPAN Muhammad Yunus at IMDb\n",
      "Muhammad Yunus collected news and commentary at The New York Times  Muhammad Yunus collected news\n",
      "and commentary at The Guardian\n",
      "-----------------------------------------------------------------\n"
     ]
    }
   ],
   "source": [
    "for i, p in enumerate(paragraphs):\n",
    "  wrapped_text = textwrap.fill(p, width=100)\n",
    "\n",
    "  print(\"-----------------------------------------------------------------\")\n",
    "  print(wrapped_text)\n",
    "  print(\"-----------------------------------------------------------------\")\n"
   ]
  },
  {
   "cell_type": "code",
   "execution_count": 10,
   "metadata": {},
   "outputs": [
    {
     "data": {
      "text/plain": [
       "35"
      ]
     },
     "execution_count": 10,
     "metadata": {},
     "output_type": "execute_result"
    }
   ],
   "source": [
    "len(paragraphs)"
   ]
  },
  {
   "cell_type": "markdown",
   "metadata": {},
   "source": [
    "### Embed the Document"
   ]
  },
  {
   "cell_type": "markdown",
   "metadata": {},
   "source": [
    "Turning the paragraphs into word embeddings "
   ]
  },
  {
   "cell_type": "code",
   "execution_count": 7,
   "metadata": {},
   "outputs": [],
   "source": [
    "docs_embed = model.encode(paragraphs, normalize_embeddings=True)"
   ]
  },
  {
   "cell_type": "code",
   "execution_count": 8,
   "metadata": {},
   "outputs": [
    {
     "data": {
      "text/plain": [
       "(35, 768)"
      ]
     },
     "execution_count": 8,
     "metadata": {},
     "output_type": "execute_result"
    }
   ],
   "source": [
    "docs_embed.shape"
   ]
  },
  {
   "cell_type": "code",
   "execution_count": 12,
   "metadata": {},
   "outputs": [
    {
     "data": {
      "text/plain": [
       "array([ 1.91694759e-02, -2.69589331e-02,  1.04318727e-02, -2.70635653e-02,\n",
       "       -4.21567857e-02, -7.71854678e-03,  5.74812144e-02,  5.77369966e-02,\n",
       "        3.16994675e-02, -3.60584892e-02,  4.18407209e-02,  3.19251381e-02,\n",
       "        2.97827795e-02, -3.81309949e-02, -4.77523264e-03, -1.81123521e-02,\n",
       "        2.39235461e-02, -4.39292565e-03, -1.49219790e-02,  1.07248975e-02,\n",
       "       -2.00983137e-02, -2.68920455e-02, -2.36109160e-02,  2.09223814e-02,\n",
       "        6.27344241e-03,  1.29387341e-02, -1.16277458e-02,  4.59472351e-02,\n",
       "       -4.65470552e-02, -7.52445485e-04, -3.84207256e-02, -1.14051194e-03,\n",
       "        3.64743434e-02, -1.97858252e-02, -1.79965440e-02, -2.69578472e-02,\n",
       "       -2.03525759e-02,  1.57506652e-02, -2.34666448e-02,  2.65341178e-02,\n",
       "       -8.46144930e-03,  4.74700611e-03,  1.17120706e-02,  8.31734017e-03,\n",
       "       -3.00525571e-03,  5.86115047e-02,  1.42740691e-02, -3.20817754e-02,\n",
       "        8.89801979e-03, -5.40683009e-02, -2.85662916e-02,  5.06849214e-02,\n",
       "       -3.74441557e-02, -3.04897279e-02,  3.17570977e-02, -1.51822316e-02,\n",
       "       -1.56637980e-03,  5.38333468e-02, -5.87819517e-02, -7.73814553e-03,\n",
       "       -4.94550681e-04,  6.03746027e-02, -1.71690732e-02, -4.07156125e-02,\n",
       "       -4.36087959e-02, -5.12737259e-02,  1.53604727e-02, -1.90945212e-02,\n",
       "       -4.06607315e-02,  5.47993146e-02, -3.23674567e-02,  9.47150309e-03,\n",
       "        8.12515151e-03, -1.85304228e-02,  3.17032710e-02,  5.35929725e-02,\n",
       "        1.21878851e-02, -2.15581246e-03, -1.79264136e-02,  3.82219255e-03,\n",
       "        7.32999071e-02, -4.06854227e-02, -1.17722657e-02, -1.31395487e-02,\n",
       "       -2.44459566e-02,  5.34537109e-03, -1.49151031e-02, -2.24583782e-02,\n",
       "        2.64128596e-02,  5.21805063e-02, -1.40272519e-02,  5.97421080e-03,\n",
       "        8.61713663e-03,  3.10923774e-02, -9.87825077e-03,  9.84365586e-03,\n",
       "        4.81234230e-02, -3.09587121e-02,  2.58714240e-02,  1.78553183e-02,\n",
       "        3.98987792e-02,  7.83619434e-02,  1.11760786e-02, -5.37348073e-03,\n",
       "       -3.38807399e-03,  2.13492662e-02, -1.95455160e-02,  4.25587855e-02,\n",
       "        4.61960444e-03, -1.02207984e-03,  4.15613991e-04, -6.05578534e-02,\n",
       "        1.95192220e-03,  5.51408343e-03, -7.95374066e-03, -7.04487413e-03,\n",
       "        3.35206576e-02, -2.95051443e-03, -1.64941214e-02,  6.86161146e-02,\n",
       "       -2.47661490e-02,  1.14884507e-02,  6.53541982e-02, -3.31321806e-02,\n",
       "       -6.98110135e-03,  3.15268080e-05,  6.17625704e-03,  9.87602677e-03,\n",
       "       -1.71932746e-02, -3.07591539e-02, -8.06711800e-03,  9.83197987e-03,\n",
       "        4.20278609e-02, -4.26683500e-02, -3.74339260e-02, -7.77433277e-04,\n",
       "        2.80953757e-02, -4.59955856e-02,  2.32980568e-02, -2.00109165e-02,\n",
       "       -4.82207071e-03,  1.19716106e-02, -4.78632422e-03,  3.83427963e-02,\n",
       "        3.21415626e-02, -3.47550586e-02,  2.78872717e-02,  3.03973025e-03,\n",
       "       -2.67708451e-02, -3.14774066e-02,  5.19155385e-03,  2.29222029e-02,\n",
       "       -3.19048315e-02,  2.01468412e-02, -1.32932430e-02, -2.09231768e-02,\n",
       "        1.19140623e-02,  8.79435800e-03, -5.06323315e-02,  3.60788801e-03,\n",
       "        3.64656281e-03,  2.04450916e-02, -4.35336791e-02,  1.69411171e-02,\n",
       "       -1.00852549e-02, -1.95768680e-02, -2.10300732e-05,  6.72744494e-03,\n",
       "        1.13468850e-03, -2.45566387e-02,  2.20608208e-02, -3.31762731e-02,\n",
       "       -7.30236471e-02, -7.37884045e-02,  1.93282347e-02, -9.62634664e-03,\n",
       "        4.92404797e-04,  6.57112710e-03, -7.19770603e-03,  6.93478137e-02,\n",
       "        1.60876196e-02, -3.52635235e-02, -2.15837713e-02, -1.96721610e-02,\n",
       "       -1.04515040e-02, -7.88149834e-02, -1.92682631e-02, -2.09964421e-02,\n",
       "       -1.59818318e-03, -4.81497943e-02, -3.44335362e-02, -1.43522983e-02,\n",
       "       -5.82221672e-02,  8.39525461e-03, -2.10036617e-02,  1.48004498e-02,\n",
       "        6.78279400e-02, -3.01308148e-02, -2.72621065e-02,  1.64711326e-02,\n",
       "        2.48824656e-02,  1.74112208e-02, -2.18771640e-02, -3.35713848e-03,\n",
       "        9.14746057e-03,  1.46676628e-02, -2.02624244e-03, -4.23064223e-03,\n",
       "       -7.64372991e-03, -1.36749437e-02, -3.75235528e-02,  8.98619834e-03,\n",
       "        8.80053919e-03, -1.52101209e-02, -3.12895626e-02,  2.05645654e-02,\n",
       "       -6.93041235e-02,  3.83577086e-02, -4.13150378e-02,  1.06943548e-02,\n",
       "        6.73321635e-02,  1.90347694e-02, -4.49824035e-02,  3.36306472e-03,\n",
       "       -2.21117251e-02,  2.73006186e-02, -1.05743445e-02, -4.04090546e-02,\n",
       "        2.51196250e-02, -1.87911615e-02, -5.37075708e-03, -3.96940205e-03,\n",
       "        4.06680908e-03, -6.25859341e-03, -5.60832582e-02,  1.07746180e-02,\n",
       "        8.75328761e-03, -1.55693963e-02, -3.56169082e-02, -4.90593798e-02,\n",
       "       -1.59208989e-03, -5.01532247e-03,  2.55377721e-02,  2.86167618e-02,\n",
       "       -6.39657155e-02,  3.58899171e-03, -2.90363654e-02,  4.18443931e-03,\n",
       "        4.35988531e-02, -3.58022191e-02,  3.60265374e-02, -5.69731556e-02,\n",
       "        4.18130830e-02, -1.48285013e-02,  6.06286665e-03, -6.25435309e-03,\n",
       "        1.91258360e-02,  5.05783036e-03, -6.40899688e-03, -9.11379140e-03,\n",
       "       -1.52726471e-02,  4.94438224e-02,  2.07964480e-02,  2.69030109e-02,\n",
       "        1.53484875e-02, -4.24239375e-02, -8.93294439e-03, -1.64167881e-02,\n",
       "       -7.38455867e-03,  5.56046143e-02,  1.54644316e-02, -4.71977592e-02,\n",
       "       -3.83072458e-02, -3.58927697e-02, -1.32458871e-02, -7.00801285e-03,\n",
       "       -1.05510093e-02,  3.94891463e-02, -1.56069477e-03, -1.55571010e-02,\n",
       "        2.30592638e-02,  4.45070527e-02, -1.77544039e-02,  1.86862834e-02,\n",
       "        3.89127284e-02,  1.84784513e-02,  2.04213001e-02, -5.35902642e-02,\n",
       "       -1.30707501e-02,  1.24437436e-02,  1.64221004e-02,  1.06522199e-02,\n",
       "        2.36253231e-03,  3.19366436e-03, -2.52923388e-02, -3.24262790e-02,\n",
       "        9.29526612e-02, -1.60721934e-03, -1.47648141e-04, -3.94530445e-02,\n",
       "       -1.36770559e-02, -2.15851944e-02, -1.52320778e-02,  4.28052433e-03,\n",
       "        3.85322049e-02, -3.80805582e-02,  1.07691437e-02,  1.51644647e-02,\n",
       "       -2.21051313e-02,  2.67383386e-03,  4.87356028e-03, -3.42712104e-02,\n",
       "        2.52155941e-02,  1.34441517e-02,  1.64587554e-02, -5.00866286e-02,\n",
       "        1.92422420e-02, -1.48406941e-02, -3.31194028e-02,  1.19802803e-02,\n",
       "        2.94396020e-02, -1.53617263e-02, -4.19006497e-02,  1.12214061e-02,\n",
       "       -4.21827435e-02, -7.41810817e-03,  5.03717437e-02, -1.35880262e-02,\n",
       "       -2.89467573e-02,  6.08063601e-02, -1.46033969e-02,  6.77131396e-03,\n",
       "        7.21134618e-02,  6.17070869e-02,  2.09625829e-02, -5.32647669e-02,\n",
       "       -1.71784963e-02, -6.23689257e-02, -2.51225587e-02, -1.74104534e-02,\n",
       "        3.64957470e-03, -3.80933657e-02, -6.59978166e-02,  1.78825948e-02,\n",
       "       -4.89840023e-02,  1.32556856e-02, -1.71207190e-02, -2.21365187e-02,\n",
       "       -1.63325183e-02, -2.55049020e-02, -4.67073917e-02, -1.64586455e-02,\n",
       "        5.54165654e-02,  7.14241490e-02, -2.78731249e-02, -1.03921089e-02,\n",
       "        6.36565778e-03, -4.72709350e-02, -1.85376145e-02, -5.78990718e-03,\n",
       "       -7.95032084e-03,  4.58537182e-03, -1.13996156e-02,  1.78784765e-02,\n",
       "        3.89520451e-02, -1.36515275e-02, -2.34381817e-02,  7.07726777e-02,\n",
       "       -9.75767616e-03, -4.53247596e-03, -1.75066292e-02,  3.56016681e-02,\n",
       "        1.07622053e-02, -1.59279665e-03, -5.00214845e-02, -4.29175375e-03,\n",
       "       -3.31962369e-02,  1.78568382e-02,  1.72815397e-02, -3.93969100e-03,\n",
       "       -1.14114182e-02, -8.19468349e-02,  1.65360793e-02,  1.24919200e-02,\n",
       "        2.76869200e-02,  2.27399450e-02,  4.03063372e-02, -7.02229794e-03,\n",
       "       -4.04714644e-02,  1.36616137e-02, -4.67454866e-02, -1.85327046e-02,\n",
       "        2.10209955e-02, -1.54171269e-02, -3.20332334e-03, -4.77258191e-02,\n",
       "       -2.92059220e-02,  1.07362019e-02,  3.89302559e-02, -1.86682288e-02,\n",
       "        4.92817052e-02,  5.56094339e-03,  5.88341709e-03,  1.42045587e-03,\n",
       "       -4.10806611e-02,  9.92243737e-03,  5.87256579e-03,  8.67571868e-03,\n",
       "       -3.36466171e-02,  2.00781953e-02,  5.29628210e-02, -3.63358036e-02,\n",
       "        4.43472601e-02, -2.51899194e-02, -3.40479948e-02, -1.74687225e-02,\n",
       "        2.97232764e-04, -6.67693838e-02,  5.74123813e-03, -1.96175352e-02,\n",
       "       -1.48443133e-02,  1.22022834e-02, -8.81070085e-03,  1.95123944e-02,\n",
       "        4.53097932e-02, -3.39977816e-02, -2.02369541e-02,  6.54010521e-03,\n",
       "       -5.27686998e-02,  2.75722072e-02,  2.13143677e-02,  4.59746681e-02,\n",
       "       -7.06342096e-03, -2.44229864e-02, -2.66755582e-03,  2.34356765e-02,\n",
       "       -5.56155406e-02,  2.17334721e-02,  1.60381924e-02,  2.10331827e-02,\n",
       "       -1.49824573e-02,  3.15397792e-02,  2.17977390e-02,  1.63615905e-02,\n",
       "       -3.39704752e-02,  4.04529274e-03, -5.02728969e-02,  6.32983148e-02,\n",
       "       -8.23255815e-03, -1.21237179e-02,  1.94746088e-02,  3.06029860e-02,\n",
       "       -5.62067423e-03,  7.05067217e-02, -8.74140672e-03,  2.70989891e-02,\n",
       "       -5.02100214e-02,  2.72711664e-02, -2.34162789e-02,  6.69944566e-03,\n",
       "        1.47445807e-02, -3.74901667e-03, -1.85596868e-02,  5.22057852e-03,\n",
       "        3.93614434e-02, -1.15278140e-02, -3.33948317e-03,  1.84600055e-02,\n",
       "        1.17846437e-04,  6.71509504e-02,  2.94740014e-02,  9.36839450e-03,\n",
       "       -1.31010888e-02,  1.32572027e-02,  9.21857171e-03, -3.82264480e-02,\n",
       "        3.59071903e-02, -1.21415639e-02,  4.22842540e-02,  5.76361734e-03,\n",
       "       -4.19988930e-02,  5.65920062e-02,  4.49946038e-02, -1.28834031e-03,\n",
       "       -5.37180826e-02,  1.66708883e-02, -1.23489210e-02,  2.62892060e-02,\n",
       "        2.26060394e-02, -5.19153103e-03, -1.16014043e-02, -6.63324371e-02,\n",
       "        2.47010291e-02,  1.35297477e-02, -3.14869173e-02,  2.04730332e-02,\n",
       "        2.46161427e-02, -2.23867651e-02,  2.85516158e-02, -4.00280859e-03,\n",
       "        3.84737104e-02,  4.69935089e-02, -1.41987030e-03, -2.69603487e-02,\n",
       "        2.96628065e-02, -1.53024467e-02, -2.74864933e-03, -3.78123112e-02,\n",
       "        7.26074632e-03, -1.03961229e-02, -1.07128583e-02,  2.57232245e-02,\n",
       "        1.17723309e-02,  7.42737716e-03,  4.93840463e-02, -5.31373126e-03,\n",
       "       -8.90159085e-02, -9.30679142e-02,  7.57830217e-03,  4.57809828e-02,\n",
       "        4.80835931e-03, -5.18818200e-02, -1.14569915e-02,  3.89245935e-02,\n",
       "        1.71268880e-02, -1.15311034e-02, -1.92062613e-02,  1.31812608e-02,\n",
       "       -3.13196965e-02, -1.46634728e-02, -8.93903140e-04, -1.78622752e-02,\n",
       "        6.65163472e-02, -5.63106826e-03,  2.36995872e-02, -2.36034696e-03,\n",
       "        6.58903737e-03,  1.62261762e-02, -1.76253784e-02,  5.99241955e-03,\n",
       "       -3.13655138e-02, -4.15718043e-03,  4.55041900e-02,  6.53584395e-03,\n",
       "       -1.91529654e-03, -1.85254309e-02, -1.51082193e-02,  1.20441513e-02,\n",
       "        2.63076602e-03, -4.52233106e-02, -3.12408376e-02, -2.29615197e-02,\n",
       "        5.70295602e-02, -3.68735306e-02, -1.76383723e-02,  4.76212651e-02,\n",
       "       -5.14239430e-01, -1.21197645e-02, -2.18284260e-02, -4.37365510e-02,\n",
       "        2.05196887e-02, -2.47286372e-02, -2.36171447e-02, -6.39834106e-02,\n",
       "        2.20192932e-02, -6.36095554e-02, -4.46427278e-02,  1.15613705e-02,\n",
       "       -1.24291079e-02, -1.42852338e-02, -9.29865241e-03, -3.63115855e-02,\n",
       "       -3.47868539e-02,  2.98713222e-02, -5.36145754e-02,  3.14335600e-02,\n",
       "       -1.95080135e-02, -5.54343546e-03, -4.25297907e-03, -3.23640481e-02,\n",
       "       -3.10669746e-02,  2.66347714e-02,  1.34320958e-02,  2.61158142e-02,\n",
       "       -1.51618468e-02, -1.37632824e-02,  7.99828302e-03,  1.25306174e-02,\n",
       "       -2.66148313e-03,  6.51943162e-02,  4.28179428e-02,  7.85404164e-03,\n",
       "        1.42187569e-02,  1.32012712e-02, -5.12621226e-03,  3.02308006e-03,\n",
       "        1.06871603e-02,  9.15336329e-03, -1.23913037e-02,  1.72395799e-02,\n",
       "       -2.84674689e-02, -3.88306119e-02, -2.20234171e-02, -5.16585074e-02,\n",
       "        1.27444938e-02, -3.00289672e-02,  1.17776578e-03,  1.52036792e-03,\n",
       "       -4.30174135e-02, -3.88980508e-02,  4.04645763e-02,  1.67672578e-02,\n",
       "        5.21363970e-03, -1.06127867e-02, -5.35474494e-02,  6.15044869e-02,\n",
       "       -5.87363839e-02,  5.71254594e-03,  6.15824424e-02, -3.39937583e-02,\n",
       "       -4.03502546e-02,  3.94420587e-02,  5.02968058e-02, -4.34447313e-03,\n",
       "       -1.26657719e-02, -8.09816550e-03, -9.23816580e-03, -1.63255986e-02,\n",
       "        5.66523671e-02, -5.77713246e-04, -2.62543326e-03, -1.54632004e-03,\n",
       "        1.04207462e-02, -1.28718400e-02,  6.56297896e-03,  3.23947109e-02,\n",
       "        4.19420656e-03, -8.06265324e-02,  6.17535086e-03, -1.34557346e-02,\n",
       "        6.93177991e-03, -4.07938883e-02, -1.94585882e-03,  2.01651137e-02,\n",
       "        4.58364636e-02, -3.54105793e-02,  2.49071904e-02,  3.11118346e-02,\n",
       "       -1.49692753e-02, -2.18652785e-02,  8.74742586e-03, -3.90325151e-02,\n",
       "       -1.34403482e-02,  4.37984169e-02,  2.99823228e-02, -2.19765399e-02,\n",
       "       -4.33276929e-02, -5.68286749e-03,  1.56935379e-02,  2.97476575e-02,\n",
       "       -2.42003035e-02,  1.25802644e-02,  4.63973545e-02, -2.39857323e-02,\n",
       "        3.07768751e-02, -4.71961200e-02,  2.25680508e-02,  4.79009338e-02,\n",
       "        5.10620698e-03,  9.54270363e-04, -4.51593427e-03, -2.76968367e-02,\n",
       "       -3.31297144e-02, -3.59617695e-02, -6.85899938e-03, -2.39454918e-02,\n",
       "        7.54082168e-04, -2.15662643e-03, -5.25716096e-02,  6.03311621e-02,\n",
       "        2.50754356e-02, -5.04875928e-02, -3.69394682e-02,  4.51157056e-02,\n",
       "        4.62012552e-02,  2.34138183e-02, -2.51954421e-02,  6.79903105e-02,\n",
       "        4.98074442e-02, -1.28625231e-02, -1.01305041e-02,  3.67587432e-02,\n",
       "        2.42856424e-02,  5.99288270e-02,  3.85005176e-02, -6.45300315e-05,\n",
       "        1.92844253e-02,  2.39744876e-02, -1.88735574e-02,  5.04377671e-02,\n",
       "        1.39050540e-02, -1.20219300e-02, -5.76051660e-02, -3.88566740e-02,\n",
       "       -6.46754308e-03,  5.91032999e-03, -1.45146558e-02,  5.58901206e-02,\n",
       "        9.90710407e-03,  2.73841117e-02, -6.26616506e-03, -2.91530583e-02,\n",
       "       -1.04367454e-02,  7.53171090e-03,  1.40923690e-02,  1.32998917e-02,\n",
       "        1.72059797e-02, -2.69558690e-02,  7.15117082e-02, -6.25737768e-04,\n",
       "        1.95433628e-02,  3.80582623e-02,  1.36988973e-02, -9.95300338e-03,\n",
       "       -2.60712244e-02,  3.52941267e-02,  6.22730935e-03, -2.37867441e-02,\n",
       "       -6.69877650e-03,  2.95266081e-02,  5.18772267e-02, -4.68831994e-02,\n",
       "       -2.70049218e-02, -1.09928222e-02,  4.10003476e-02, -7.74915814e-02,\n",
       "       -3.10146436e-02, -3.09847724e-02,  5.67125436e-03,  3.36248130e-02,\n",
       "       -5.87047748e-02, -2.23063640e-02, -2.35931613e-02, -1.74126476e-02,\n",
       "        6.26613572e-03, -8.67372379e-03, -2.46377196e-02,  1.55389840e-02,\n",
       "       -5.31295836e-02, -1.28946621e-02,  7.78409466e-03,  3.37258615e-02,\n",
       "       -1.64839327e-02,  3.01999059e-02, -4.46404144e-02,  2.07156334e-02,\n",
       "       -3.90605368e-02, -1.03253484e-01, -6.38633594e-02,  3.17605329e-03,\n",
       "        2.21447032e-02, -7.82355480e-03,  1.97976567e-02,  8.98745097e-03,\n",
       "       -1.28604313e-02,  4.47417516e-03, -6.48815408e-02, -1.07317716e-02],\n",
       "      dtype=float32)"
      ]
     },
     "execution_count": 12,
     "metadata": {},
     "output_type": "execute_result"
    }
   ],
   "source": [
    "docs_embed[0]"
   ]
  },
  {
   "cell_type": "code",
   "execution_count": 13,
   "metadata": {},
   "outputs": [],
   "source": [
    "query = \"When did Dr.Yunus won the Nobel peace prize?\"\n",
    "query_embed = model.encode(query, normalize_embeddings=True)\n"
   ]
  },
  {
   "cell_type": "code",
   "execution_count": 14,
   "metadata": {},
   "outputs": [
    {
     "data": {
      "text/plain": [
       "(768,)"
      ]
     },
     "execution_count": 14,
     "metadata": {},
     "output_type": "execute_result"
    }
   ],
   "source": [
    "query_embed.shape"
   ]
  },
  {
   "cell_type": "markdown",
   "metadata": {},
   "source": [
    "### Find the Closest Paragraph to the Query"
   ]
  },
  {
   "cell_type": "code",
   "execution_count": 16,
   "metadata": {},
   "outputs": [],
   "source": [
    "similarities = np.dot(docs_embed, query_embed.T)"
   ]
  },
  {
   "cell_type": "code",
   "execution_count": 17,
   "metadata": {},
   "outputs": [
    {
     "data": {
      "text/plain": [
       "(35,)"
      ]
     },
     "execution_count": 17,
     "metadata": {},
     "output_type": "execute_result"
    }
   ],
   "source": [
    "similarities.shape"
   ]
  },
  {
   "cell_type": "code",
   "execution_count": 18,
   "metadata": {},
   "outputs": [],
   "source": [
    "top_3_idx = np.argsort(similarities, axis=0)"
   ]
  },
  {
   "cell_type": "code",
   "execution_count": 19,
   "metadata": {},
   "outputs": [
    {
     "data": {
      "text/plain": [
       "array([24, 30, 33, 31,  4, 18, 14, 34, 16, 28, 32, 23, 29, 13, 21,  3, 15,\n",
       "       27, 22, 20, 12,  1, 17, 25, 11, 19,  9,  2, 26, 10,  8,  6,  7,  0,\n",
       "        5])"
      ]
     },
     "execution_count": 19,
     "metadata": {},
     "output_type": "execute_result"
    }
   ],
   "source": [
    "top_3_idx"
   ]
  },
  {
   "cell_type": "code",
   "execution_count": 20,
   "metadata": {},
   "outputs": [
    {
     "data": {
      "text/plain": [
       "array([7, 0, 5])"
      ]
     },
     "execution_count": 20,
     "metadata": {},
     "output_type": "execute_result"
    }
   ],
   "source": [
    "top_3_idx[-3:]"
   ]
  },
  {
   "cell_type": "code",
   "execution_count": 21,
   "metadata": {},
   "outputs": [
    {
     "data": {
      "text/plain": [
       "array([5, 0, 7])"
      ]
     },
     "execution_count": 21,
     "metadata": {},
     "output_type": "execute_result"
    }
   ],
   "source": [
    "top_3_idx[-3:][::-1]"
   ]
  },
  {
   "cell_type": "code",
   "execution_count": 22,
   "metadata": {},
   "outputs": [],
   "source": [
    "top_3_idx = np.argsort(similarities, axis=0)[-3:][::-1].tolist()"
   ]
  },
  {
   "cell_type": "code",
   "execution_count": 23,
   "metadata": {},
   "outputs": [],
   "source": [
    "most_similar_documents = [paragraphs[idx] for idx in top_3_idx]"
   ]
  },
  {
   "cell_type": "code",
   "execution_count": 24,
   "metadata": {},
   "outputs": [
    {
     "name": "stdout",
     "output_type": "stream",
     "text": [
      "-----------------------------------------------------------------\n",
      "Recognition Yunus was awarded the 2006 Nobel Peace Prize, along with Grameen Bank, for their efforts\n",
      "to create economic and social development:\n",
      "-----------------------------------------------------------------\n",
      "-----------------------------------------------------------------\n",
      "Muhammad Yunus (born 28 June 1940) is a Bangladeshi entrepreneur, banker, economist, politician, and\n",
      "civil society leader who has been serving as the Chief Adviser of the interim government of\n",
      "Bangladesh since 8 August 2024. Yunus was awarded the Nobel Peace Prize in 2006 for founding the\n",
      "Grameen Bank and pioneering the concepts of microcredit and microfinance. Yunus has received several\n",
      "other national and international honors, including the United States Presidential Medal of Freedom\n",
      "in 2009 and the Congressional Gold Medal in 2010. Yunus is one of just seven individuals who have\n",
      "been awarded the Nobel Peace Prize, the United States Presidential Medal of Freedom, and the United\n",
      "States Congressional Gold Medal. In 2012, Yunus became Chancellor of Glasgow Caledonian University\n",
      "in Scotland, a position he held until 2018. Previously, he was a professor of economics at\n",
      "Chittagong University in Bangladesh. He published several books related to his finance work. He is a\n",
      "founding board member of Grameen America and Grameen Foundation, which support microcredit. Yunus\n",
      "also served on the board of directors of the United Nations Foundation, a public charity to support\n",
      "UN causes, from 1998 to 2021. In 2022, he partnered with Global Esports Federation to build esports\n",
      "for the development movement. After dissolving parliament on 6 August 2024, Bangladeshi president\n",
      "Mohammed Shahabuddin nominated Yunus to serve as the head of the interim government of Bangladesh,\n",
      "acceding to student demands following the resignation of former Prime Minister Sheikh Hasina. His\n",
      "acquittal on appeal the following day of charges of labor code violations, which were viewed as\n",
      "politically motivated, facilitated his return to the country and appointment.\n",
      "-----------------------------------------------------------------\n",
      "-----------------------------------------------------------------\n",
      "He is one of only seven persons to have won the Nobel Peace Prize, Presidential Medal of Freedom,\n",
      "and the Congressional Gold Medal. Other notable awards include the Ramon Magsaysay Award in 1984,\n",
      "the World Food Prize, the International Simon Bolivar Prize (1996), the Prince of Asturias Award for\n",
      "Concord and the Sydney Peace Prize in 1998,  and the Seoul Peace Prize in 2006. Additionally, Yunus\n",
      "has been awarded 50 honorary doctorate degrees from universities across 20 countries, and 113\n",
      "international awards from 26 countries including state honours from 10 countries. Bangladesh\n",
      "government brought out a commemorative stamp to honour his Nobel Award. Yunus was named by Fortune\n",
      "Magazine in March 2012 as one of 12 greatest entrepreneurs of the current era. In its citation,\n",
      "Fortune Magazine said \"Yunus' idea inspired countless numbers of young people to devote themselves\n",
      "to social causes all over the world.\" In January 2008, Houston, Texas declared 14 January as\n",
      "\"Muhammad Yunus Day\". Yunus was named among the most desired thinkers the world should listen to by\n",
      "the FP 100 (world's most influential elite) in the December 2009 issue of Foreign Policy magazine.\n",
      "-----------------------------------------------------------------\n"
     ]
    }
   ],
   "source": [
    "CONTEXT = \"\"\n",
    "for i, p in enumerate(most_similar_documents):\n",
    "  wrapped_text = textwrap.fill(p, width=100)\n",
    "\n",
    "  print(\"-----------------------------------------------------------------\")\n",
    "  print(wrapped_text)\n",
    "  print(\"-----------------------------------------------------------------\")\n",
    "  CONTEXT += wrapped_text + \"\\n\\n\""
   ]
  },
  {
   "cell_type": "markdown",
   "metadata": {},
   "source": [
    "### Getting the response from LLM"
   ]
  },
  {
   "cell_type": "code",
   "execution_count": 35,
   "metadata": {},
   "outputs": [],
   "source": [
    "_ = load_dotenv()\n",
    "\n",
    "client = OpenAI()"
   ]
  },
  {
   "cell_type": "code",
   "execution_count": 32,
   "metadata": {},
   "outputs": [],
   "source": [
    "query = \"When did Dr.Yunus won the Nobel peace prize?\"\n",
    "prompt = f\"\"\"Use the following CONTEXT to answer the QUESTION at the end.\n",
    "If you don't know the answer, just say that you don't know, don't try to make up an answer.\n",
    "\n",
    "CONTEXT: {CONTEXT}\n",
    "QUESTION: {query}\n",
    "\n",
    "\"\"\""
   ]
  },
  {
   "cell_type": "code",
   "execution_count": 33,
   "metadata": {},
   "outputs": [
    {
     "name": "stdout",
     "output_type": "stream",
     "text": [
      "Use the following CONTEXT to answer the QUESTION at the end.\n",
      "If you don't know the answer, just say that you don't know, don't try to make up an answer.\n",
      "\n",
      "CONTEXT: Recognition Yunus was awarded the 2006 Nobel Peace Prize, along with Grameen Bank, for their efforts\n",
      "to create economic and social development:\n",
      "\n",
      "Muhammad Yunus (born 28 June 1940) is a Bangladeshi entrepreneur, banker, economist, politician, and\n",
      "civil society leader who has been serving as the Chief Adviser of the interim government of\n",
      "Bangladesh since 8 August 2024. Yunus was awarded the Nobel Peace Prize in 2006 for founding the\n",
      "Grameen Bank and pioneering the concepts of microcredit and microfinance. Yunus has received several\n",
      "other national and international honors, including the United States Presidential Medal of Freedom\n",
      "in 2009 and the Congressional Gold Medal in 2010. Yunus is one of just seven individuals who have\n",
      "been awarded the Nobel Peace Prize, the United States Presidential Medal of Freedom, and the United\n",
      "States Congressional Gold Medal. In 2012, Yunus became Chancellor of Glasgow Caledonian University\n",
      "in Scotland, a position he held until 2018. Previously, he was a professor of economics at\n",
      "Chittagong University in Bangladesh. He published several books related to his finance work. He is a\n",
      "founding board member of Grameen America and Grameen Foundation, which support microcredit. Yunus\n",
      "also served on the board of directors of the United Nations Foundation, a public charity to support\n",
      "UN causes, from 1998 to 2021. In 2022, he partnered with Global Esports Federation to build esports\n",
      "for the development movement. After dissolving parliament on 6 August 2024, Bangladeshi president\n",
      "Mohammed Shahabuddin nominated Yunus to serve as the head of the interim government of Bangladesh,\n",
      "acceding to student demands following the resignation of former Prime Minister Sheikh Hasina. His\n",
      "acquittal on appeal the following day of charges of labor code violations, which were viewed as\n",
      "politically motivated, facilitated his return to the country and appointment.\n",
      "\n",
      "He is one of only seven persons to have won the Nobel Peace Prize, Presidential Medal of Freedom,\n",
      "and the Congressional Gold Medal. Other notable awards include the Ramon Magsaysay Award in 1984,\n",
      "the World Food Prize, the International Simon Bolivar Prize (1996), the Prince of Asturias Award for\n",
      "Concord and the Sydney Peace Prize in 1998,  and the Seoul Peace Prize in 2006. Additionally, Yunus\n",
      "has been awarded 50 honorary doctorate degrees from universities across 20 countries, and 113\n",
      "international awards from 26 countries including state honours from 10 countries. Bangladesh\n",
      "government brought out a commemorative stamp to honour his Nobel Award. Yunus was named by Fortune\n",
      "Magazine in March 2012 as one of 12 greatest entrepreneurs of the current era. In its citation,\n",
      "Fortune Magazine said \"Yunus' idea inspired countless numbers of young people to devote themselves\n",
      "to social causes all over the world.\" In January 2008, Houston, Texas declared 14 January as\n",
      "\"Muhammad Yunus Day\". Yunus was named among the most desired thinkers the world should listen to by\n",
      "the FP 100 (world's most influential elite) in the December 2009 issue of Foreign Policy magazine.\n",
      "\n",
      "\n",
      "QUESTION: When did Dr.Yunus won the Nobel peace prize?\n",
      "\n",
      "\n"
     ]
    }
   ],
   "source": [
    "print(prompt)"
   ]
  },
  {
   "cell_type": "code",
   "execution_count": 36,
   "metadata": {},
   "outputs": [],
   "source": [
    "response = client.chat.completions.create(\n",
    "  model=\"gpt-4o\",\n",
    "  messages=[\n",
    "    {\"role\": \"user\", \"content\": prompt},\n",
    "  ]\n",
    ")"
   ]
  },
  {
   "cell_type": "code",
   "execution_count": 42,
   "metadata": {},
   "outputs": [
    {
     "data": {
      "text/plain": [
       "'Dr. Yunus won the Nobel Peace Prize in 2006.'"
      ]
     },
     "execution_count": 42,
     "metadata": {},
     "output_type": "execute_result"
    }
   ],
   "source": [
    "response.choices[0].message.content"
   ]
  }
 ],
 "metadata": {
  "kernelspec": {
   "display_name": "Python 3",
   "language": "python",
   "name": "python3"
  },
  "language_info": {
   "codemirror_mode": {
    "name": "ipython",
    "version": 3
   },
   "file_extension": ".py",
   "mimetype": "text/x-python",
   "name": "python",
   "nbconvert_exporter": "python",
   "pygments_lexer": "ipython3",
   "version": "3.12.5"
  }
 },
 "nbformat": 4,
 "nbformat_minor": 2
}
